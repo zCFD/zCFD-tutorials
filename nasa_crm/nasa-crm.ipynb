{
 "cells": [
  {
   "cell_type": "markdown",
   "metadata": {},
   "source": [
    "# NASA Common Research Model\n",
    "## Drag Prediction Workshop 5\n",
    "\n",
    "### Matched Lift Coefficient (0.50) with Drag Components\n",
    "\n",
    "\n",
    "### References\n",
    "\n",
    "https://aiaa-dpw.larc.nasa.gov/\n",
    "\n",
    "https://aiaa-dpw.larc.nasa.gov/Workshop5/presentations/DPW5_Presentation_Files/14_DPW5%20Summary-Draft_V7.pdf"
   ]
  },
  {
   "cell_type": "code",
   "execution_count": null,
   "metadata": {
    "tags": [
     "parameters"
    ]
   },
   "outputs": [],
   "source": [
    "CASE='dpw5_L1'\n",
    "DATA_DIR='.'\n",
    "REF_DATA_DIR='.'"
   ]
  },
  {
   "cell_type": "markdown",
   "metadata": {},
   "source": [
    "## Define Data Location\n",
    "For remote data the interaction will use ssh to securely interact with the data<br/>\n",
    "This uses the reverse connection capability in paraview so that the paraview server can be submitted to a job scheduler<br/>\n",
    "Note: The default paraview server connection will use port 11111"
   ]
  },
  {
   "cell_type": "code",
   "execution_count": null,
   "metadata": {},
   "outputs": [],
   "source": [
    "import os\n",
    "from zutil import analysis\n",
    "analysis.data_init(default_data_dir=DATA_DIR,\n",
    "                   default_ref_data_dir=REF_DATA_DIR)\n"
   ]
  },
  {
   "cell_type": "markdown",
   "metadata": {},
   "source": [
    "### Initialise Environment"
   ]
  },
  {
   "cell_type": "code",
   "execution_count": null,
   "metadata": {},
   "outputs": [],
   "source": [
    "from zutil.plot import *\n",
    "\n",
    "from paraview.simple import *\n",
    "paraview.simple._DisableFirstRenderCameraReset()\n",
    "import math"
   ]
  },
  {
   "cell_type": "markdown",
   "metadata": {},
   "source": [
    "### Get status file"
   ]
  },
  {
   "cell_type": "code",
   "execution_count": null,
   "metadata": {},
   "outputs": [],
   "source": [
    "from zutil.post import get_status_dict\n",
    "status=get_status_dict(CASE)\n",
    "num_procs = str(status['num processor'])"
   ]
  },
  {
   "cell_type": "markdown",
   "metadata": {},
   "source": [
    "### Define test conditions"
   ]
  },
  {
   "cell_type": "code",
   "execution_count": null,
   "metadata": {},
   "outputs": [],
   "source": [
    "alpha = 2.21 # degrees\n",
    "reference_area = 594720.0 # inches^2\n",
    "reference_length = 275.8 # inches, mean chord. \n",
    "reference_span = 1156.75 # inches\n"
   ]
  },
  {
   "cell_type": "code",
   "execution_count": null,
   "metadata": {},
   "outputs": [],
   "source": [
    "from zutil.post import cp_profile_wall_from_file\n",
    "\n",
    "def plot_cp_profile(ax,file_root,span_loc, label):\n",
    "    \n",
    "    force_data = cp_profile_wall_from_file(file_root,\n",
    "                              [0.0,1.0,0.0],\n",
    "                              [0, span_loc*reference_span, 0],\n",
    "                              func=plot_array,\n",
    "                              axis=ax,\n",
    "                              span_loc=span_loc,\n",
    "                              alpha=alpha,\n",
    "                              label=label)\n",
    "    \n",
    "def plot_array(data_array,pts_array,**kwargs):\n",
    "    ax = kwargs['axis']\n",
    "    span_loc = kwargs['span_loc']\n",
    "    cp_array = data_array.GetPointData()['cp']\n",
    "    chord_array = data_array.GetPointData()['chord']\n",
    "    ax.plot(chord_array, cp_array , '.',label=kwargs['label'])"
   ]
  },
  {
   "cell_type": "markdown",
   "metadata": {},
   "source": [
    "### Comparison Data"
   ]
  },
  {
   "cell_type": "code",
   "execution_count": null,
   "metadata": {},
   "outputs": [],
   "source": [
    "# Reproduce plots from DPW5 presentation, page 45\n",
    "# Pressure data points (reference semi-span: 1156.75) \n",
    "# Station Type          WBL      ETA     Chord\n",
    "# 1       CFD Cut Only  121.459  0.1050  466.5\n",
    "# 2       CFD Cut Only  133.026  0.1150  459.6\n",
    "# 3       CFD Cut Only  144.594  0.1250  452.7\n",
    "# 4       Pressure Tap  151.074  0.1306  448.8\n",
    "# 5       Pressure Tap  232.444  0.2009  400.7\n",
    "# 6       Pressure Tap  327.074  0.2828  345.0\n",
    "# 7       CFD Cut Only  396.765  0.3430  304.1\n",
    "# 8       CFD Cut Only  427.998  0.3700  285.8\n",
    "# 9       Pressure Tap  459.370  0.3971  278.1\n",
    "# 10      Pressure Tap  581.148  0.5024  248.3\n",
    "# 11      Pressure Tap  697.333  0.6028  219.9\n",
    "# 12      Pressure Tap  840.704  0.7268  184.8\n",
    "# 13      Pressure Tap  978.148  0.8456  151.2\n",
    "# 14      Pressure Tap  1098.126 0.9500  121.7\n",
    "# 15      CFD Cut Only  1122.048 0.9700  116.0\n",
    "# 16      CFD Cut Only  1145.183 0.9900  110.5\n",
    "\n",
    "#eta_values = [0.1306, 0.2828, 0.3971, 0.5024, 0.7268, 0.9500] # stations 4, 6, 9, 10, 12, 14\n",
    "\n",
    "from collections import OrderedDict\n",
    "station_values = OrderedDict([(\"S04\" , 0.1306), (\"S06\" , 0.2828), (\"S09\" , 0.3971), \n",
    "                              (\"S10\" , 0.5024), (\"S12\" , 0.7268), (\"S14\" , 0.9500)])\n",
    "sources = [[\"Edge SST\",\"r\"], [\"CFD++ SST\",\"g\"], [\"FUN3D SA\", \"m\"], [\"MFlow SA\", \"y\"]] \n",
    "dpw5_comparative_data = eval(open(os.path.join(analysis.data.ref_data_dir, 'DPW5_Comparative_Data.py'), 'r').read())\n"
   ]
  },
  {
   "cell_type": "markdown",
   "metadata": {},
   "source": [
    "## Force and Residual Convergence"
   ]
  },
  {
   "cell_type": "code",
   "execution_count": null,
   "metadata": {
    "scrolled": false
   },
   "outputs": [],
   "source": [
    "from zutil.post import get_csv_data\n",
    "\n",
    "def plot_residual(ax, csv_data):\n",
    "    eqns = ['rho', 'rhoV[0]', 'rhoV[1]', 'rhoV[2]', 'rhoE', 'rhok', 'rhoOmega']\n",
    "    cycles = csv_data['Cycle'].tolist()\n",
    "    ax.set_yscale('log')\n",
    "    for eqn in eqns:\n",
    "        ax.plot(cycles, csv_data[eqn], label=eqn)\n",
    "\n",
    "fig_list = {}\n",
    "C_L = {}\n",
    "C_D = {}\n",
    "C_D_P = {}\n",
    "C_D_F = {}\n",
    "plots = ('Drag', 'Lift', 'Residuals DPW L1')\n",
    "for plot in plots:\n",
    "    fig_list[plot] = get_figure(plt)\n",
    "    fig = fig_list[plot]\n",
    "    ax = fig.gca()\n",
    "    set_title(ax, plot+' vs Cycle\\n')\n",
    "    x_label(ax, 'Cycle')\n",
    "    if plot.startswith('Res'):\n",
    "        y_label(ax, 'Residual')\n",
    "    else:\n",
    "        y_label(ax, plot)\n",
    "    \n",
    "csv_file = os.path.join(analysis.data.data_dir, CASE+\"_report.csv\")\n",
    "csv_data = get_csv_data(csv_file, delim='\\s+', header=True)\n",
    "\n",
    "drag = np.asarray(csv_data['wall_Ftx'].tolist())\n",
    "lift = np.asarray(csv_data['wall_Ftz'].tolist())\n",
    "friction = np.asarray(csv_data['wall_Ftfx'].tolist())\n",
    "pressure = np.asarray(csv_data['wall_Ftpx'].tolist())\n",
    "cycles = csv_data['Cycle'].tolist()\n",
    "\n",
    "C_L[CASE] = np.mean(lift[-100:])\n",
    "C_D[CASE] = np.mean(drag[-100:])\n",
    "C_D_P[CASE] = np.mean(pressure[-100:])\n",
    "C_D_F[CASE] = np.mean(friction[-100:])\n",
    "\n",
    "for plot in plots:\n",
    "    fig = fig_list[plot]\n",
    "    ax = fig.gca()\n",
    "    if plot == 'Drag':\n",
    "        ax.axis([0, 10000, 0.005, 0.03])\n",
    "        ax.plot(cycles, drag, label='$\\mathbf{C_{d}}$ %s' % CASE)\n",
    "        ax.plot(cycles, friction, label='$\\mathbf{C_{df}}$ %s' % CASE)\n",
    "        ax.plot(cycles, pressure, label='$\\mathbf{C_{dp}}$ %s' % CASE)\n",
    "    elif plot == 'Lift':\n",
    "        ax.axis([0, 10000, 0.49, 0.51])\n",
    "        ax.plot(cycles, lift, label='$\\mathbf{C_l}$ %s' % CASE)\n",
    "        ax.axhline(0.5, ls='dashed')\n",
    "    elif plot.endswith('L1') and CASE == 'dpw5_L1':\n",
    "        plot_residual(ax, csv_data) \n",
    "    elif plot.endswith('L2') and CASE == 'dpw5_L2':\n",
    "        plot_residual(ax, csv_data) \n",
    "\n",
    "\n",
    "for plot in plots:\n",
    "    fig = fig_list[plot]\n",
    "    ax = fig.gca()\n",
    "    set_legend(ax, 'best')\n",
    "    #fig.savefig(os.path.join(\"output\", \"DPW5_\"+plot+\"_convergence.png\"))\n",
    "\n",
    "            "
   ]
  },
  {
   "cell_type": "markdown",
   "metadata": {},
   "source": [
    "## Cp Profile"
   ]
  },
  {
   "cell_type": "code",
   "execution_count": null,
   "metadata": {
    "scrolled": false
   },
   "outputs": [],
   "source": [
    "from zutil.post import get_case_root\n",
    "from zutil.post import calc_force_wall\n",
    "from zutil.post import ProgressBar\n",
    "import os\n",
    "\n",
    "pbar = ProgressBar()\n",
    "\n",
    "fig_list = {}\n",
    "for station in station_values:\n",
    "    fig_list[station] = get_figure(plt)\n",
    "    fig = fig_list[station]\n",
    "    span_loc = station_values[station]\n",
    "    ax = fig.gca()\n",
    "    set_title(ax,'$\\mathbf{C_p}$ span='+str(span_loc*100)+'% \\n')\n",
    "    ax.grid(True)\n",
    "    x_label(ax,'$\\mathbf{x/c}$')\n",
    "    y_label(ax,'$\\mathbf{C_p}$')\n",
    "    ax.axis([0.0,1.0,1.0,-1.2])\n",
    "    set_ticks(ax)\n",
    "\n",
    "    for source, colour in sources:\n",
    "        plotlist_x = []\n",
    "        plotlist_y = []\n",
    "        for key, value in dpw5_comparative_data[\"L3\"][source][station]['X/C'].iteritems():\n",
    "            plotlist_x.append(value)\n",
    "        for key, value in dpw5_comparative_data[\"L3\"][source][station]['CP'].iteritems():\n",
    "            plotlist_y.append(value)\n",
    "\n",
    "        ax.plot(plotlist_x, plotlist_y, colour+'.', label=source)\n",
    "\n",
    "\n",
    "case_name = CASE\n",
    "label = 'zCFD SST L1'\n",
    "\n",
    "status=get_status_dict(case_name)\n",
    "num_procs = str(status['num processor'])\n",
    "\n",
    "plot = 1\n",
    "pbar+=5\n",
    "\n",
    "for station in station_values:\n",
    "    span_loc = station_values[station]\n",
    "    fig = fig_list[station]\n",
    "\n",
    "    ax = fig.gca()\n",
    "    plot_cp_profile(ax,os.path.join(analysis.data.data_dir,get_case_root(case_name,num_procs)),\n",
    "                    span_loc, label=label)\n",
    "    plot += 1\n",
    "    pbar += 5\n",
    "        \n",
    "for station in station_values:\n",
    "    fig = fig_list[station]\n",
    "    ax = fig.gca()\n",
    "    set_legend(ax,'best')\n",
    "\n",
    "    #fig.subplots_adjust(hspace=0.3) \n",
    "    fig.savefig(os.path.join(\"output\", \"DPW5_cp_profile_\"+str(station)+\".png\"))\n",
    "\n",
    "pbar.complete()\n",
    "plt.show()\n"
   ]
  },
  {
   "cell_type": "code",
   "execution_count": null,
   "metadata": {
    "scrolled": false
   },
   "outputs": [],
   "source": [
    "from zutil.post import get_num_procs\n",
    "\n",
    "def save_image(file_root, label):\n",
    "    renderView1 = CreateView('RenderView')\n",
    "    renderView1.ViewSize = [1080, 634]\n",
    "    renderView1.InteractionMode = '2D'\n",
    "    renderView1.AxesGrid = 'GridAxes3DActor'\n",
    "    renderView1.OrientationAxesVisibility = 0\n",
    "    renderView1.CenterOfRotation = [1327.6915283203125, 0.0, 217.05277633666992]\n",
    "    renderView1.StereoType = 0\n",
    "    renderView1.CameraPosition = [1327.6915283203125, 0.0, 6781.762593092753]\n",
    "    renderView1.CameraFocalPoint = [1327.6915283203125, 0.0, 217.05277633666992]\n",
    "    renderView1.CameraParallelScale = 1404.19167450244\n",
    "    renderView1.Background = [0.0, 0.0, 0.0]\n",
    "    dpw5_L1_wallpvd = PVDReader(FileName=file_root+'_wall.pvd')\n",
    "    cleantoGrid1 = CleantoGrid(Input=dpw5_L1_wallpvd)\n",
    "    cellDatatoPointData1 = CellDatatoPointData(Input=cleantoGrid1)\n",
    "    reflect1 = Reflect(Input=cellDatatoPointData1)\n",
    "    reflect1.Plane = 'Y Min'\n",
    "    cpLUT = GetColorTransferFunction('cp')\n",
    "    cpLUT.RGBPoints = [-1.0959302186965942, 0.231373, 0.298039, 0.752941, 0.07523328065872192, 0.865003, 0.865003, 0.865003, 1.246396780014038, 0.705882, 0.0156863, 0.14902]\n",
    "    cpLUT.ScalarRangeInitialized = 1.0\n",
    "    cpPWF = GetOpacityTransferFunction('cp')\n",
    "    cpPWF.Points = [-1.0959302186965942, 0.0, 0.5, 0.0, 1.246396780014038, 1.0, 0.5, 0.0]\n",
    "    cpPWF.ScalarRangeInitialized = 1\n",
    "    reflect1Display = Show(reflect1, renderView1)\n",
    "    reflect1Display.ColorArrayName = ['POINTS', 'cp']\n",
    "    reflect1Display.LookupTable = cpLUT\n",
    "    reflect1Display.ScalarOpacityUnitDistance = 113.80220009822894    \n",
    "    Render()\n",
    "    WriteImage(os.path.join(\"output\", label+'.png'))\n",
    "    \n",
    "from IPython.display import Image, display\n",
    "\n",
    "case_name = CASE\n",
    "label_ = 'NASA CRM zCFD L1'\n",
    "num_procs = get_num_procs(case_name)\n",
    "save_image(os.path.join(analysis.data.data_dir,get_case_root(case_name,str(num_procs))),label_)\n",
    "display(Image(filename=os.path.join(\"output\", '%s.png' % label_), width=800, height=500, unconfined=True))"
   ]
  }
 ],
 "metadata": {
  "kernelspec": {
   "display_name": "Python 2",
   "language": "python",
   "name": "python2"
  },
  "language_info": {
   "codemirror_mode": {
    "name": "ipython",
    "version": 2
   },
   "file_extension": ".py",
   "mimetype": "text/x-python",
   "name": "python",
   "nbconvert_exporter": "python",
   "pygments_lexer": "ipython2",
   "version": "2.7.14"
  }
 },
 "nbformat": 4,
 "nbformat_minor": 2
}
